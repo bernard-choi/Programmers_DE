{
  "nbformat": 4,
  "nbformat_minor": 0,
  "metadata": {
    "colab": {
      "name": "Python으로 Redshift DB접속하기",
      "provenance": [],
      "collapsed_sections": []
    },
    "kernelspec": {
      "name": "python3",
      "display_name": "Python 3"
    }
  },
  "cells": [
    {
      "cell_type": "code",
      "metadata": {
        "id": "ePY_5ad7CYtR",
        "colab_type": "code",
        "colab": {
          "base_uri": "https://localhost:8080/",
          "height": 71
        },
        "outputId": "b5af9788-3a24-4b22-89d1-63bff4f7f209"
      },
      "source": [
        "import psycopg2"
      ],
      "execution_count": 1,
      "outputs": [
        {
          "output_type": "stream",
          "text": [
            "/usr/local/lib/python3.6/dist-packages/psycopg2/__init__.py:144: UserWarning: The psycopg2 wheel package will be renamed from release 2.8; in order to keep installing from binary please use \"pip install psycopg2-binary\" instead. For details see: <http://initd.org/psycopg/docs/install.html#binary-install-from-pypi>.\n",
            "  \"\"\")\n"
          ],
          "name": "stderr"
        }
      ]
    },
    {
      "cell_type": "code",
      "metadata": {
        "id": "vMCQFA-FDDKB",
        "colab_type": "code",
        "colab": {}
      },
      "source": [
        "def get_Redshift_connection():\n",
        "    host = \"\"\n",
        "    redshift_user = \"\"\n",
        "    redshift_pass = \"\"\n",
        "    port = 5439\n",
        "    dbname = \"dev\"\n",
        "    conn = psycopg2.connect(\"dbname={dbname} user={user} host={host} password={password} port={port}\".format(\n",
        "        dbname=dbname,\n",
        "        user=redshift_user,\n",
        "        password=redshift_pass,\n",
        "        host=host,\n",
        "        port=port\n",
        "    ))\n",
        "    conn.set_session(readonly=True, autocommit=True)\n",
        "    return conn"
      ],
      "execution_count": 10,
      "outputs": []
    },
    {
      "cell_type": "code",
      "metadata": {
        "id": "RGYLtLKtHHPC",
        "colab_type": "code",
        "colab": {}
      },
      "source": [
        "conn = get_Redshift_connection()\n",
        "cur = conn.cursor()\n",
        "\n",
        "sql = \"SELECT * FROM raw_data.user_session_channel LIMIT 10;\"\n",
        "cur.execute(sql)\n",
        "rows = cur.fetchall()"
      ],
      "execution_count": 12,
      "outputs": []
    },
    {
      "cell_type": "code",
      "metadata": {
        "id": "wqsSWrgJIvOJ",
        "colab_type": "code",
        "colab": {
          "base_uri": "https://localhost:8080/",
          "height": 187
        },
        "outputId": "ed04aec9-fe79-4ec0-a24c-f0aa1cbb40d7"
      },
      "source": [
        "for r in rows:\n",
        "  print(r)"
      ],
      "execution_count": 13,
      "outputs": [
        {
          "output_type": "stream",
          "text": [
            "(184, 'c41dd99a69df04044aa4e33ece9c9249', 'Naver')\n",
            "(80, 'fdc0eb412a84fa549afe68373d9087e9', 'Organic')\n",
            "(251, '0a54b19a13b6712dc04d1b49215423d8', 'Facebook')\n",
            "(264, 'a914ecef9c12ffdb9bede64bb703d877', 'Google')\n",
            "(744, '05ae14d7ae387b93370d142d82220f1b', 'Facebook')\n",
            "(229, 'eddeb82df22554fa67c641e3f8a25566', 'Google')\n",
            "(265, '4c4ea5258ef3fb3fb1fc48fee9b4408c', 'Naver')\n",
            "(80, '8ae1da0fe37c98412768453f82490da2', 'Organic')\n",
            "(45, '60131a2a3f223dc8f4753bcc5771660c', 'Youtube')\n",
            "(198, '90f4760fcc9b69c13da7368c5c2917f3', 'Facebook')\n"
          ],
          "name": "stdout"
        }
      ]
    },
    {
      "cell_type": "code",
      "metadata": {
        "id": "pfeYYVoRKwbA",
        "colab_type": "code",
        "colab": {}
      },
      "source": [
        "import pandas.io.sql as sqlio"
      ],
      "execution_count": 5,
      "outputs": []
    },
    {
      "cell_type": "code",
      "metadata": {
        "id": "vSrgRV65K7xb",
        "colab_type": "code",
        "colab": {}
      },
      "source": [
        "df = sqlio.read_sql_query(sql,conn)"
      ],
      "execution_count": 14,
      "outputs": []
    },
    {
      "cell_type": "code",
      "metadata": {
        "id": "F0IUfKh4LCNX",
        "colab_type": "code",
        "colab": {
          "base_uri": "https://localhost:8080/",
          "height": 202
        },
        "outputId": "dadd616f-683d-475c-b494-211288343534"
      },
      "source": [
        "df.head()"
      ],
      "execution_count": null,
      "outputs": [
        {
          "output_type": "execute_result",
          "data": {
            "text/html": [
              "<div>\n",
              "<style scoped>\n",
              "    .dataframe tbody tr th:only-of-type {\n",
              "        vertical-align: middle;\n",
              "    }\n",
              "\n",
              "    .dataframe tbody tr th {\n",
              "        vertical-align: top;\n",
              "    }\n",
              "\n",
              "    .dataframe thead th {\n",
              "        text-align: right;\n",
              "    }\n",
              "</style>\n",
              "<table border=\"1\" class=\"dataframe\">\n",
              "  <thead>\n",
              "    <tr style=\"text-align: right;\">\n",
              "      <th></th>\n",
              "      <th>userid</th>\n",
              "      <th>sessionid</th>\n",
              "      <th>channel</th>\n",
              "    </tr>\n",
              "  </thead>\n",
              "  <tbody>\n",
              "    <tr>\n",
              "      <th>0</th>\n",
              "      <td>184</td>\n",
              "      <td>c41dd99a69df04044aa4e33ece9c9249</td>\n",
              "      <td>Naver</td>\n",
              "    </tr>\n",
              "    <tr>\n",
              "      <th>1</th>\n",
              "      <td>80</td>\n",
              "      <td>fdc0eb412a84fa549afe68373d9087e9</td>\n",
              "      <td>Organic</td>\n",
              "    </tr>\n",
              "    <tr>\n",
              "      <th>2</th>\n",
              "      <td>251</td>\n",
              "      <td>0a54b19a13b6712dc04d1b49215423d8</td>\n",
              "      <td>Facebook</td>\n",
              "    </tr>\n",
              "    <tr>\n",
              "      <th>3</th>\n",
              "      <td>264</td>\n",
              "      <td>a914ecef9c12ffdb9bede64bb703d877</td>\n",
              "      <td>Google</td>\n",
              "    </tr>\n",
              "    <tr>\n",
              "      <th>4</th>\n",
              "      <td>744</td>\n",
              "      <td>05ae14d7ae387b93370d142d82220f1b</td>\n",
              "      <td>Facebook</td>\n",
              "    </tr>\n",
              "  </tbody>\n",
              "</table>\n",
              "</div>"
            ],
            "text/plain": [
              "   userid                         sessionid   channel\n",
              "0     184  c41dd99a69df04044aa4e33ece9c9249     Naver\n",
              "1      80  fdc0eb412a84fa549afe68373d9087e9   Organic\n",
              "2     251  0a54b19a13b6712dc04d1b49215423d8  Facebook\n",
              "3     264  a914ecef9c12ffdb9bede64bb703d877    Google\n",
              "4     744  05ae14d7ae387b93370d142d82220f1b  Facebook"
            ]
          },
          "metadata": {
            "tags": []
          },
          "execution_count": 10
        }
      ]
    }
  ]
}