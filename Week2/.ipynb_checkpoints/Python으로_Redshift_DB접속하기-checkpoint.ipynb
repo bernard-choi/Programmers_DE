{
 "cells": [
  {
   "cell_type": "code",
   "execution_count": 1,
   "metadata": {
    "colab": {
     "base_uri": "https://localhost:8080/",
     "height": 71
    },
    "colab_type": "code",
    "id": "ePY_5ad7CYtR",
    "outputId": "b5af9788-3a24-4b22-89d1-63bff4f7f209"
   },
   "outputs": [
    {
     "name": "stderr",
     "output_type": "stream",
     "text": [
      "/usr/local/lib/python3.6/dist-packages/psycopg2/__init__.py:144: UserWarning: The psycopg2 wheel package will be renamed from release 2.8; in order to keep installing from binary please use \"pip install psycopg2-binary\" instead. For details see: <http://initd.org/psycopg/docs/install.html#binary-install-from-pypi>.\n",
      "  \"\"\")\n"
     ]
    }
   ],
   "source": [
    "import psycopg2"
   ]
  },
  {
   "cell_type": "code",
   "execution_count": 10,
   "metadata": {
    "colab": {},
    "colab_type": "code",
    "id": "vMCQFA-FDDKB"
   },
   "outputs": [],
   "source": [
    "def get_Redshift_connection():\n",
    "    host = \"\"\n",
    "    redshift_user = \"\"\n",
    "    redshift_pass = \"\"\n",
    "    port = 5439\n",
    "    dbname = \"dev\"\n",
    "    conn = psycopg2.connect(\"dbname={dbname} user={user} host={host} password={password} port={port}\".format(\n",
    "        dbname=dbname,\n",
    "        user=redshift_user,\n",
    "        password=redshift_pass,\n",
    "        host=host,\n",
    "        port=port\n",
    "    ))\n",
    "    conn.set_session(readonly=True, autocommit=True)\n",
    "    return conn"
   ]
  },
  {
   "cell_type": "code",
   "execution_count": 12,
   "metadata": {
    "colab": {},
    "colab_type": "code",
    "id": "RGYLtLKtHHPC"
   },
   "outputs": [],
   "source": [
    "conn = get_Redshift_connection()\n",
    "cur = conn.cursor()\n",
    "\n",
    "sql = \"SELECT * FROM raw_data.user_session_channel LIMIT 10;\"\n",
    "cur.execute(sql)\n",
    "rows = cur.fetchall()"
   ]
  },
  {
   "cell_type": "code",
   "execution_count": 13,
   "metadata": {
    "colab": {
     "base_uri": "https://localhost:8080/",
     "height": 187
    },
    "colab_type": "code",
    "id": "wqsSWrgJIvOJ",
    "outputId": "ed04aec9-fe79-4ec0-a24c-f0aa1cbb40d7"
   },
   "outputs": [
    {
     "name": "stdout",
     "output_type": "stream",
     "text": [
      "(184, 'c41dd99a69df04044aa4e33ece9c9249', 'Naver')\n",
      "(80, 'fdc0eb412a84fa549afe68373d9087e9', 'Organic')\n",
      "(251, '0a54b19a13b6712dc04d1b49215423d8', 'Facebook')\n",
      "(264, 'a914ecef9c12ffdb9bede64bb703d877', 'Google')\n",
      "(744, '05ae14d7ae387b93370d142d82220f1b', 'Facebook')\n",
      "(229, 'eddeb82df22554fa67c641e3f8a25566', 'Google')\n",
      "(265, '4c4ea5258ef3fb3fb1fc48fee9b4408c', 'Naver')\n",
      "(80, '8ae1da0fe37c98412768453f82490da2', 'Organic')\n",
      "(45, '60131a2a3f223dc8f4753bcc5771660c', 'Youtube')\n",
      "(198, '90f4760fcc9b69c13da7368c5c2917f3', 'Facebook')\n"
     ]
    }
   ],
   "source": [
    "for r in rows:\n",
    "  print(r)"
   ]
  },
  {
   "cell_type": "code",
   "execution_count": 5,
   "metadata": {
    "colab": {},
    "colab_type": "code",
    "id": "pfeYYVoRKwbA"
   },
   "outputs": [],
   "source": [
    "import pandas.io.sql as sqlio"
   ]
  },
  {
   "cell_type": "code",
   "execution_count": 14,
   "metadata": {
    "colab": {},
    "colab_type": "code",
    "id": "vSrgRV65K7xb"
   },
   "outputs": [],
   "source": [
    "df = sqlio.read_sql_query(sql,conn)"
   ]
  },
  {
   "cell_type": "code",
   "execution_count": null,
   "metadata": {
    "colab": {
     "base_uri": "https://localhost:8080/",
     "height": 202
    },
    "colab_type": "code",
    "id": "F0IUfKh4LCNX",
    "outputId": "dadd616f-683d-475c-b494-211288343534"
   },
   "outputs": [
    {
     "data": {
      "text/html": [
       "<div>\n",
       "<style scoped>\n",
       "    .dataframe tbody tr th:only-of-type {\n",
       "        vertical-align: middle;\n",
       "    }\n",
       "\n",
       "    .dataframe tbody tr th {\n",
       "        vertical-align: top;\n",
       "    }\n",
       "\n",
       "    .dataframe thead th {\n",
       "        text-align: right;\n",
       "    }\n",
       "</style>\n",
       "<table border=\"1\" class=\"dataframe\">\n",
       "  <thead>\n",
       "    <tr style=\"text-align: right;\">\n",
       "      <th></th>\n",
       "      <th>userid</th>\n",
       "      <th>sessionid</th>\n",
       "      <th>channel</th>\n",
       "    </tr>\n",
       "  </thead>\n",
       "  <tbody>\n",
       "    <tr>\n",
       "      <th>0</th>\n",
       "      <td>184</td>\n",
       "      <td>c41dd99a69df04044aa4e33ece9c9249</td>\n",
       "      <td>Naver</td>\n",
       "    </tr>\n",
       "    <tr>\n",
       "      <th>1</th>\n",
       "      <td>80</td>\n",
       "      <td>fdc0eb412a84fa549afe68373d9087e9</td>\n",
       "      <td>Organic</td>\n",
       "    </tr>\n",
       "    <tr>\n",
       "      <th>2</th>\n",
       "      <td>251</td>\n",
       "      <td>0a54b19a13b6712dc04d1b49215423d8</td>\n",
       "      <td>Facebook</td>\n",
       "    </tr>\n",
       "    <tr>\n",
       "      <th>3</th>\n",
       "      <td>264</td>\n",
       "      <td>a914ecef9c12ffdb9bede64bb703d877</td>\n",
       "      <td>Google</td>\n",
       "    </tr>\n",
       "    <tr>\n",
       "      <th>4</th>\n",
       "      <td>744</td>\n",
       "      <td>05ae14d7ae387b93370d142d82220f1b</td>\n",
       "      <td>Facebook</td>\n",
       "    </tr>\n",
       "  </tbody>\n",
       "</table>\n",
       "</div>"
      ],
      "text/plain": [
       "   userid                         sessionid   channel\n",
       "0     184  c41dd99a69df04044aa4e33ece9c9249     Naver\n",
       "1      80  fdc0eb412a84fa549afe68373d9087e9   Organic\n",
       "2     251  0a54b19a13b6712dc04d1b49215423d8  Facebook\n",
       "3     264  a914ecef9c12ffdb9bede64bb703d877    Google\n",
       "4     744  05ae14d7ae387b93370d142d82220f1b  Facebook"
      ]
     },
     "execution_count": 10,
     "metadata": {
      "tags": []
     },
     "output_type": "execute_result"
    }
   ],
   "source": [
    "df.head()"
   ]
  }
 ],
 "metadata": {
  "colab": {
   "collapsed_sections": [],
   "name": "Python으로 Redshift DB접속하기",
   "provenance": []
  },
  "kernelspec": {
   "display_name": "Python 3",
   "language": "python",
   "name": "python3"
  },
  "language_info": {
   "codemirror_mode": {
    "name": "ipython",
    "version": 3
   },
   "file_extension": ".py",
   "mimetype": "text/x-python",
   "name": "python",
   "nbconvert_exporter": "python",
   "pygments_lexer": "ipython3",
   "version": "3.7.4"
  }
 },
 "nbformat": 4,
 "nbformat_minor": 1
}
